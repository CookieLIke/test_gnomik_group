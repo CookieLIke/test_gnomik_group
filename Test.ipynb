{
 "cells": [
  {
   "cell_type": "code",
   "execution_count": 2,
   "id": "a6afcf30",
   "metadata": {},
   "outputs": [],
   "source": [
    "import numpy as np\n",
    "import pandas as pd\n",
    "from datetime import timedelta\n",
    "from sklearn.preprocessing import StandardScaler\n",
    "from sklearn.metrics import mean_absolute_error\n",
    "from matplotlib import pyplot as plt"
   ]
  },
  {
   "cell_type": "code",
   "execution_count": 3,
   "id": "77efebd6",
   "metadata": {},
   "outputs": [],
   "source": [
    "path = 'D:/'"
   ]
  },
  {
   "cell_type": "code",
   "execution_count": 63,
   "id": "8103f9ec",
   "metadata": {},
   "outputs": [
    {
     "data": {
      "text/html": [
       "<div>\n",
       "<style scoped>\n",
       "    .dataframe tbody tr th:only-of-type {\n",
       "        vertical-align: middle;\n",
       "    }\n",
       "\n",
       "    .dataframe tbody tr th {\n",
       "        vertical-align: top;\n",
       "    }\n",
       "\n",
       "    .dataframe thead th {\n",
       "        text-align: right;\n",
       "    }\n",
       "</style>\n",
       "<table border=\"1\" class=\"dataframe\">\n",
       "  <thead>\n",
       "    <tr style=\"text-align: right;\">\n",
       "      <th></th>\n",
       "      <th>&lt;TICKER&gt;</th>\n",
       "      <th>&lt;PER&gt;</th>\n",
       "      <th>&lt;DATE&gt;</th>\n",
       "      <th>&lt;TIME&gt;</th>\n",
       "      <th>&lt;OPEN&gt;</th>\n",
       "      <th>&lt;HIGH&gt;</th>\n",
       "      <th>&lt;LOW&gt;</th>\n",
       "      <th>&lt;CLOSE&gt;</th>\n",
       "      <th>&lt;VOL&gt;</th>\n",
       "    </tr>\n",
       "  </thead>\n",
       "  <tbody>\n",
       "    <tr>\n",
       "      <th>0</th>\n",
       "      <td>US1.AAPL</td>\n",
       "      <td>30</td>\n",
       "      <td>20160104</td>\n",
       "      <td>180000</td>\n",
       "      <td>102.6100</td>\n",
       "      <td>103.690</td>\n",
       "      <td>102.000</td>\n",
       "      <td>102.6923</td>\n",
       "      <td>9305131</td>\n",
       "    </tr>\n",
       "    <tr>\n",
       "      <th>1</th>\n",
       "      <td>US1.AAPL</td>\n",
       "      <td>30</td>\n",
       "      <td>20160104</td>\n",
       "      <td>183000</td>\n",
       "      <td>102.6800</td>\n",
       "      <td>103.590</td>\n",
       "      <td>102.380</td>\n",
       "      <td>103.2800</td>\n",
       "      <td>4822555</td>\n",
       "    </tr>\n",
       "    <tr>\n",
       "      <th>2</th>\n",
       "      <td>US1.AAPL</td>\n",
       "      <td>30</td>\n",
       "      <td>20160104</td>\n",
       "      <td>190000</td>\n",
       "      <td>103.2861</td>\n",
       "      <td>103.935</td>\n",
       "      <td>103.010</td>\n",
       "      <td>103.3420</td>\n",
       "      <td>3886702</td>\n",
       "    </tr>\n",
       "    <tr>\n",
       "      <th>3</th>\n",
       "      <td>US1.AAPL</td>\n",
       "      <td>30</td>\n",
       "      <td>20160104</td>\n",
       "      <td>193000</td>\n",
       "      <td>103.3300</td>\n",
       "      <td>103.470</td>\n",
       "      <td>102.500</td>\n",
       "      <td>103.4241</td>\n",
       "      <td>3235895</td>\n",
       "    </tr>\n",
       "    <tr>\n",
       "      <th>4</th>\n",
       "      <td>US1.AAPL</td>\n",
       "      <td>30</td>\n",
       "      <td>20160104</td>\n",
       "      <td>200000</td>\n",
       "      <td>103.4200</td>\n",
       "      <td>103.900</td>\n",
       "      <td>103.205</td>\n",
       "      <td>103.8300</td>\n",
       "      <td>2501232</td>\n",
       "    </tr>\n",
       "  </tbody>\n",
       "</table>\n",
       "</div>"
      ],
      "text/plain": [
       "   <TICKER>  <PER>    <DATE>  <TIME>    <OPEN>   <HIGH>    <LOW>   <CLOSE>  \\\n",
       "0  US1.AAPL     30  20160104  180000  102.6100  103.690  102.000  102.6923   \n",
       "1  US1.AAPL     30  20160104  183000  102.6800  103.590  102.380  103.2800   \n",
       "2  US1.AAPL     30  20160104  190000  103.2861  103.935  103.010  103.3420   \n",
       "3  US1.AAPL     30  20160104  193000  103.3300  103.470  102.500  103.4241   \n",
       "4  US1.AAPL     30  20160104  200000  103.4200  103.900  103.205  103.8300   \n",
       "\n",
       "     <VOL>  \n",
       "0  9305131  \n",
       "1  4822555  \n",
       "2  3886702  \n",
       "3  3235895  \n",
       "4  2501232  "
      ]
     },
     "execution_count": 63,
     "metadata": {},
     "output_type": "execute_result"
    }
   ],
   "source": [
    "df = pd.read_csv('{}US1.AAPL_160101_210101.txt'.format(path))\n",
    "df.head()"
   ]
  },
  {
   "cell_type": "code",
   "execution_count": 64,
   "id": "01e207f2",
   "metadata": {},
   "outputs": [
    {
     "data": {
      "text/plain": [
       "<AxesSubplot:xlabel='<DATE>'>"
      ]
     },
     "execution_count": 64,
     "metadata": {},
     "output_type": "execute_result"
    },
    {
     "data": {
      "image/png": "[encoded data removed]",
      "text/plain": [
       "<Figure size 432x288 with 1 Axes>"
      ]
     },
     "metadata": {
      "needs_background": "light"
     },
     "output_type": "display_data"
    }
   ],
   "source": [
    "df.plot(x=\"<DATE>\", y=\"<OPEN>\")\n",
    "                                "
   ]
  },
  {
   "cell_type": "code",
   "execution_count": 65,
   "id": "84802cb4",
   "metadata": {},
   "outputs": [
    {
     "data": {
      "text/plain": [
       "<AxesSubplot:xlabel='<DATE>'>"
      ]
     },
     "execution_count": 65,
     "metadata": {},
     "output_type": "execute_result"
    },
    {
     "data": {
      "image/png": "[encoded data removed]",
      "text/plain": [
       "<Figure size 432x288 with 1 Axes>"
      ]
     },
     "metadata": {
      "needs_background": "light"
     },
     "output_type": "display_data"
    }
   ],
   "source": [
    "df.plot(x=\"<DATE>\", y=\"<HIGH>\")"
   ]
  },
  {
   "cell_type": "code",
   "execution_count": 66,
   "id": "3fa03855",
   "metadata": {},
   "outputs": [
    {
     "data": {
      "text/html": [
       "<div>\n",
       "<style scoped>\n",
       "    .dataframe tbody tr th:only-of-type {\n",
       "        vertical-align: middle;\n",
       "    }\n",
       "\n",
       "    .dataframe tbody tr th {\n",
       "        vertical-align: top;\n",
       "    }\n",
       "\n",
       "    .dataframe thead th {\n",
       "        text-align: right;\n",
       "    }\n",
       "</style>\n",
       "<table border=\"1\" class=\"dataframe\">\n",
       "  <thead>\n",
       "    <tr style=\"text-align: right;\">\n",
       "      <th></th>\n",
       "      <th>&lt;OPEN&gt;</th>\n",
       "      <th>&lt;HIGH&gt;</th>\n",
       "      <th>&lt;LOW&gt;</th>\n",
       "      <th>&lt;CLOSE&gt;</th>\n",
       "    </tr>\n",
       "  </thead>\n",
       "  <tbody>\n",
       "    <tr>\n",
       "      <th>&lt;OPEN&gt;</th>\n",
       "      <td>1.000000</td>\n",
       "      <td>0.999963</td>\n",
       "      <td>0.999962</td>\n",
       "      <td>0.999942</td>\n",
       "    </tr>\n",
       "    <tr>\n",
       "      <th>&lt;HIGH&gt;</th>\n",
       "      <td>0.999963</td>\n",
       "      <td>1.000000</td>\n",
       "      <td>0.999930</td>\n",
       "      <td>0.999968</td>\n",
       "    </tr>\n",
       "    <tr>\n",
       "      <th>&lt;LOW&gt;</th>\n",
       "      <td>0.999962</td>\n",
       "      <td>0.999930</td>\n",
       "      <td>1.000000</td>\n",
       "      <td>0.999962</td>\n",
       "    </tr>\n",
       "    <tr>\n",
       "      <th>&lt;CLOSE&gt;</th>\n",
       "      <td>0.999942</td>\n",
       "      <td>0.999968</td>\n",
       "      <td>0.999962</td>\n",
       "      <td>1.000000</td>\n",
       "    </tr>\n",
       "  </tbody>\n",
       "</table>\n",
       "</div>"
      ],
      "text/plain": [
       "           <OPEN>    <HIGH>     <LOW>   <CLOSE>\n",
       "<OPEN>   1.000000  0.999963  0.999962  0.999942\n",
       "<HIGH>   0.999963  1.000000  0.999930  0.999968\n",
       "<LOW>    0.999962  0.999930  1.000000  0.999962\n",
       "<CLOSE>  0.999942  0.999968  0.999962  1.000000"
      ]
     },
     "execution_count": 66,
     "metadata": {},
     "output_type": "execute_result"
    }
   ],
   "source": [
    "df[['<OPEN>','<HIGH>','<LOW>','<CLOSE>']].corr()"
   ]
  },
  {
   "cell_type": "code",
   "execution_count": 71,
   "id": "7d84748c",
   "metadata": {},
   "outputs": [],
   "source": [
    "df_ml = df[['<OPEN>','<HIGH>','<LOW>','<CLOSE>']]\n",
    "\n",
    "train_size = int(df.shape[0] * 0.6)\n",
    "train = df_ml.iloc[:train_size]\n",
    "tmp = df_ml.iloc[train_size:]\n",
    "test = tmp.iloc[int(tmp.shape[0] * 0.3):]\n",
    "val = tmp.iloc[:int(tmp.shape[0] * 0.3)]"
   ]
  },
  {
   "cell_type": "code",
   "execution_count": 72,
   "id": "a0a2a018",
   "metadata": {},
   "outputs": [
    {
     "data": {
      "text/plain": [
       "((9805, 4), (1961, 4), (4576, 4))"
      ]
     },
     "execution_count": 72,
     "metadata": {},
     "output_type": "execute_result"
    }
   ],
   "source": [
    "train.shape, val.shape, test.shape"
   ]
  },
  {
   "cell_type": "code",
   "execution_count": 79,
   "id": "0d3ec19f",
   "metadata": {},
   "outputs": [],
   "source": [
    "scaler = StandardScaler()\n",
    "train_arr = train.copy()\n",
    "val_arr = val.copy()\n",
    "test_arr = test.copy()\n",
    "for i in range(len(df_ml.columns)):\n",
    "    train_arr.iloc[:, i] = scaler.fit_transform(train.iloc[:, i].values.reshape(-1,1))\n",
    "    val_arr.iloc[:, i] = scaler.fit_transform(val.iloc[:, i].values.reshape(-1,1))\n",
    "    test_arr.iloc[:, i] = scaler.fit_transform(test.iloc[:, i].values.reshape(-1,1))"
   ]
  },
  {
   "cell_type": "code",
   "execution_count": 29,
   "id": "d3f68251",
   "metadata": {},
   "outputs": [],
   "source": [
    "import torch\n",
    "from torch.autograd import Variable"
   ]
  },
  {
   "cell_type": "code",
   "execution_count": 80,
   "id": "690818dd",
   "metadata": {},
   "outputs": [],
   "source": [
    "def transform_data(arr, seq_len):\n",
    "    x, y = [], []\n",
    "    for i in range(len(arr) - seq_len):\n",
    "        x_i = arr[i : i + seq_len]\n",
    "        y_i = arr[i + 1 : i + seq_len + 1]\n",
    "        x.append(x_i)\n",
    "        y.append(y_i)\n",
    "    x_arr = np.array(x).reshape(-1, seq_len)\n",
    "    y_arr = np.array(y).reshape(-1, seq_len)\n",
    "    x_var = Variable(torch.from_numpy(x_arr).float())\n",
    "    y_var = Variable(torch.from_numpy(y_arr).float())\n",
    "    return x_var, y_var\n",
    "seq_len = 100\n",
    "x_train, y_train = transform_data(train_arr, seq_len)\n",
    "x_val, y_val = transform_data(val_arr, seq_len)\n",
    "x_test,y_test = transform_data(test_arr, seq_len)"
   ]
  },
  {
   "cell_type": "code",
   "execution_count": 31,
   "id": "f85aa941",
   "metadata": {},
   "outputs": [],
   "source": [
    "import torch.nn as nn\n",
    "import torch.optim as optim\n",
    "class Model(nn.Module):\n",
    "    def __init__(self, input_size, hidden_size, output_size):\n",
    "        super(Model, self).__init__()\n",
    "        self.input_size = input_size\n",
    "        self.hidden_size = hidden_size\n",
    "        self.output_size = output_size\n",
    "        self.lstm = nn.LSTMCell(self.input_size, self.hidden_size)\n",
    "        self.linear = nn.Linear(self.hidden_size, self.output_size)\n",
    "    def forward(self, input, future=0, y=None):\n",
    "        outputs = []        # reset the state of LSTM\n",
    "        # the state is kept till the end of the sequence\n",
    "        h_t = torch.zeros(input.size(0), self.hidden_size, dtype=torch.float32)\n",
    "        c_t = torch.zeros(input.size(0), self.hidden_size, dtype=torch.float32)\n",
    "        for i, input_t in enumerate(input.chunk(input.size(1), dim=1)):\n",
    "            h_t, c_t = self.lstm(input_t, (h_t, c_t))\n",
    "            output = self.linear(h_t)\n",
    "            outputs += [output]       \n",
    "            for i in range(future):\n",
    "                if y is not None and random.random() > 0.5:\n",
    "                    output = y[:, [i]]  # teacher forcing\n",
    "                    h_t, c_t = self.lstm(output, (h_t, c_t))\n",
    "                    output = self.linear(h_t)\n",
    "                    outputs += [output]\n",
    "        outputs = torch.stack(outputs, 1).squeeze(2)\n",
    "        return outputs"
   ]
  },
  {
   "cell_type": "code",
   "execution_count": 44,
   "id": "4531c98b",
   "metadata": {},
   "outputs": [],
   "source": [
    "import time\n",
    "import random\n",
    "\n",
    "\n",
    "class Optimization:\n",
    "    \"\"\" A helper class to train, test and diagnose the LSTM\"\"\"\n",
    "\n",
    "    def __init__(self, model, loss_fn, optimizer, scheduler):\n",
    "        self.model = model\n",
    "        self.loss_fn = loss_fn\n",
    "        self.optimizer = optimizer\n",
    "        self.scheduler = scheduler\n",
    "        self.train_losses = []\n",
    "        self.val_losses = []\n",
    "        self.futures = []\n",
    "\n",
    "    @staticmethod\n",
    "    def generate_batch_data(x, y, batch_size):\n",
    "        for batch, i in enumerate(range(0, len(x) - batch_size, batch_size)):\n",
    "            x_batch = x[i : i + batch_size]\n",
    "            y_batch = y[i : i + batch_size]\n",
    "            yield x_batch, y_batch, batch\n",
    "\n",
    "    def train(\n",
    "        self,\n",
    "        x_train,\n",
    "        y_train,\n",
    "        x_val=None,\n",
    "        y_val=None,\n",
    "        batch_size=100,\n",
    "        n_epochs=15,\n",
    "        do_teacher_forcing=None,\n",
    "    ):\n",
    "        seq_len = x_train.shape[1]\n",
    "        for epoch in range(n_epochs):\n",
    "            start_time = time.time()\n",
    "            self.futures = []\n",
    "\n",
    "            train_loss = 0\n",
    "            for x_batch, y_batch, batch in self.generate_batch_data(x_train, y_train, batch_size):\n",
    "                y_pred = self._predict(x_batch, y_batch, seq_len, do_teacher_forcing)\n",
    "                self.optimizer.zero_grad()\n",
    "                loss = self.loss_fn(y_pred, y_batch)\n",
    "                loss.backward()\n",
    "                self.optimizer.step()\n",
    "                train_loss += loss.item()\n",
    "            self.scheduler.step()\n",
    "            train_loss /= batch\n",
    "            self.train_losses.append(train_loss)\n",
    "\n",
    "            self._validation(x_val, y_val, batch_size)\n",
    "\n",
    "            elapsed = time.time() - start_time\n",
    "            print(\n",
    "                \"Epoch %d Train loss: %.2f. Validation loss: %.2f. Avg future: %.2f. Elapsed time: %.2fs.\"\n",
    "                % (epoch + 1, train_loss, self.val_losses[-1], np.average(self.futures), elapsed)\n",
    "            )\n",
    "\n",
    "    def _predict(self, x_batch, y_batch, seq_len, do_teacher_forcing):\n",
    "        if do_teacher_forcing:\n",
    "            future = random.randint(1, int(seq_len) / 2)\n",
    "            limit = x_batch.size(1) - future\n",
    "            y_pred = self.model(x_batch[:, :limit], future=future, y=y_batch[:, limit:])\n",
    "        else:\n",
    "            future = 0\n",
    "            y_pred = self.model(x_batch)\n",
    "        self.futures.append(future)\n",
    "        return y_pred\n",
    "\n",
    "    def _validation(self, x_val, y_val, batch_size):\n",
    "        if x_val is None or y_val is None:\n",
    "            return\n",
    "        with torch.no_grad():\n",
    "            val_loss = 0\n",
    "            for x_batch, y_batch, batch in self.generate_batch_data(x_val, y_val, batch_size):\n",
    "                y_pred = self.model(x_batch)\n",
    "                loss = self.loss_fn(y_pred, y_batch)\n",
    "                val_loss += loss.item()\n",
    "            val_loss /= batch\n",
    "            self.val_losses.append(val_loss)\n",
    "\n",
    "    def evaluate(self, x_test, y_test, batch_size, future=1):\n",
    "        with torch.no_grad():\n",
    "            test_loss = 0\n",
    "            actual, predicted = [], []\n",
    "            for x_batch, y_batch, batch in self.generate_batch_data(x_test, y_test, batch_size):\n",
    "                y_pred = self.model(x_batch, future=future)\n",
    "                y_pred = (\n",
    "                    y_pred[:, -len(y_batch) :] if y_pred.shape[1] > y_batch.shape[1] else y_pred\n",
    "                )\n",
    "                loss = self.loss_fn(y_pred, y_batch)\n",
    "                test_loss += loss.item()\n",
    "                actual += torch.squeeze(y_batch[:, -1]).data.cpu().numpy().tolist()\n",
    "                predicted += torch.squeeze(y_pred[:, -1]).data.cpu().numpy().tolist()\n",
    "            test_loss /= batch\n",
    "            return actual, predicted, test_loss\n",
    "\n",
    "    def plot_losses(self):\n",
    "        plt.plot(self.train_losses, label=\"Training loss\")\n",
    "        plt.plot(self.val_losses, label=\"Validation loss\")\n",
    "        plt.legend()\n",
    "        plt.title(\"Losses\")"
   ]
  },
  {
   "cell_type": "code",
   "execution_count": 33,
   "id": "e391c1a0",
   "metadata": {},
   "outputs": [],
   "source": [
    "def generate_sequence(scaler, model, x_sample, future=1000):\n",
    "    \"\"\" Generate future values for x_sample with the model \"\"\"\n",
    "    y_pred_tensor = model(x_sample, future=future)\n",
    "    y_pred = y_pred_tensor.cpu().tolist()\n",
    "    y_pred = scaler.inverse_transform(y_pred)\n",
    "    return y_pred"
   ]
  },
  {
   "cell_type": "code",
   "execution_count": 34,
   "id": "350c7c51",
   "metadata": {},
   "outputs": [],
   "source": [
    "def to_dataframe(actual, predicted):\n",
    "    return pd.DataFrame({\"actual\": actual, \"predicted\": predicted})\n",
    "\n",
    "\n",
    "def inverse_transform(scalar, df, columns):\n",
    "    for col in columns:\n",
    "        df[col] = scaler.inverse_transform(df[col])\n",
    "    return df"
   ]
  },
  {
   "cell_type": "code",
   "execution_count": 81,
   "id": "56dad595",
   "metadata": {},
   "outputs": [],
   "source": [
    "model_1 = Model(input_size=1, hidden_size=21, output_size=1)\n",
    "loss_fn_1 = nn.MSELoss()\n",
    "optimizer_1 = optim.Adam(model_1.parameters(), lr=1e-3)\n",
    "scheduler_1 = optim.lr_scheduler.StepLR(optimizer_1, step_size=5, gamma=0.1)\n",
    "optimization_1 = Optimization(model_1, loss_fn_1, optimizer_1, scheduler_1)"
   ]
  },
  {
   "cell_type": "code",
   "execution_count": 82,
   "id": "931b1dd4",
   "metadata": {},
   "outputs": [
    {
     "name": "stdout",
     "output_type": "stream",
     "text": [
      "Epoch 1 Train loss: 0.20. Validation loss: 0.38. Avg future: 0.00. Elapsed time: 26.92s.\n",
      "Epoch 2 Train loss: 0.09. Validation loss: 0.23. Avg future: 0.00. Elapsed time: 28.61s.\n",
      "Epoch 3 Train loss: 0.07. Validation loss: 0.15. Avg future: 0.00. Elapsed time: 29.80s.\n",
      "Epoch 4 Train loss: 0.04. Validation loss: 0.09. Avg future: 0.00. Elapsed time: 29.02s.\n",
      "Epoch 5 Train loss: 0.03. Validation loss: 0.07. Avg future: 0.00. Elapsed time: 30.81s.\n",
      "Epoch 6 Train loss: 0.03. Validation loss: 0.04. Avg future: 0.00. Elapsed time: 42.24s.\n",
      "Epoch 7 Train loss: 0.01. Validation loss: 0.04. Avg future: 0.00. Elapsed time: 31.16s.\n",
      "Epoch 8 Train loss: 0.01. Validation loss: 0.03. Avg future: 0.00. Elapsed time: 24.87s.\n",
      "Epoch 9 Train loss: 0.01. Validation loss: 0.03. Avg future: 0.00. Elapsed time: 25.98s.\n",
      "Epoch 10 Train loss: 0.01. Validation loss: 0.02. Avg future: 0.00. Elapsed time: 28.40s.\n",
      "Epoch 11 Train loss: 0.01. Validation loss: 0.02. Avg future: 0.00. Elapsed time: 27.57s.\n",
      "Epoch 12 Train loss: 0.01. Validation loss: 0.02. Avg future: 0.00. Elapsed time: 28.49s.\n",
      "Epoch 13 Train loss: 0.01. Validation loss: 0.02. Avg future: 0.00. Elapsed time: 29.50s.\n",
      "Epoch 14 Train loss: 0.01. Validation loss: 0.02. Avg future: 0.00. Elapsed time: 28.25s.\n",
      "Epoch 15 Train loss: 0.01. Validation loss: 0.02. Avg future: 0.00. Elapsed time: 29.29s.\n"
     ]
    }
   ],
   "source": [
    "optimization_1.train(x_train, y_train, x_val, y_val, do_teacher_forcing=False)"
   ]
  },
  {
   "cell_type": "code",
   "execution_count": 83,
   "id": "efe014d1",
   "metadata": {},
   "outputs": [
    {
     "data": {
      "image/png": "[encoded data removed]",
      "text/plain": [
       "<Figure size 432x288 with 1 Axes>"
      ]
     },
     "metadata": {
      "needs_background": "light"
     },
     "output_type": "display_data"
    }
   ],
   "source": [
    "optimization_1.plot_losses()"
   ]
  },
  {
   "cell_type": "code",
   "execution_count": 86,
   "id": "28c3a208",
   "metadata": {},
   "outputs": [
    {
     "name": "stdout",
     "output_type": "stream",
     "text": [
      "Test loss 0.0122\n"
     ]
    },
    {
     "data": {
      "image/png": "[encoded data removed]",
      "text/plain": [
       "<Figure size 1008x504 with 1 Axes>"
      ]
     },
     "metadata": {
      "needs_background": "light"
     },
     "output_type": "display_data"
    }
   ],
   "source": [
    "actual_1, predicted_1, test_loss_1 = optimization_1.evaluate(x_test, y_test, future=5, batch_size=100)\n",
    "df_result_1 = to_dataframe(actual_1, predicted_1) \n",
    "df_result_1 = inverse_transform(scaler, df_result_1, ['actual', 'predicted'])\n",
    "df_result_1.plot(figsize=(14, 7))\n",
    "print(\"Test loss %.4f\" % test_loss_1)"
   ]
  },
  {
   "cell_type": "code",
   "execution_count": null,
   "id": "d4e12121",
   "metadata": {},
   "outputs": [],
   "source": []
  }
 ],
 "metadata": {
  "kernelspec": {
   "display_name": "Python 3",
   "language": "python",
   "name": "python3"
  },
  "language_info": {
   "codemirror_mode": {
    "name": "ipython",
    "version": 3
   },
   "file_extension": ".py",
   "mimetype": "text/x-python",
   "name": "python",
   "nbconvert_exporter": "python",
   "pygments_lexer": "ipython3",
   "version": "3.8.10"
  }
 },
 "nbformat": 4,
 "nbformat_minor": 5
}
